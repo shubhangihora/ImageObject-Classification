{
 "cells": [
  {
   "cell_type": "code",
   "execution_count": 24,
   "metadata": {},
   "outputs": [
    {
     "name": "stderr",
     "output_type": "stream",
     "text": [
      "C:\\Users\\User\\Anaconda3\\lib\\site-packages\\sklearn\\ensemble\\weight_boosting.py:29: DeprecationWarning: numpy.core.umath_tests is an internal NumPy module and should not be imported. It will be removed in a future NumPy release.\n",
      "  from numpy.core.umath_tests import inner1d\n"
     ]
    }
   ],
   "source": [
    "import matplotlib.pyplot as plt\n",
    "import pylab as py\n",
    "%matplotlib inline\n",
    "from sklearn.model_selection import train_test_split as tts\n",
    "from sklearn import ensemble\n",
    "from sklearn.datasets import load_digits"
   ]
  },
  {
   "cell_type": "code",
   "execution_count": 11,
   "metadata": {
    "collapsed": true
   },
   "outputs": [],
   "source": [
    "digits = load_digits()"
   ]
  },
  {
   "cell_type": "code",
   "execution_count": 16,
   "metadata": {},
   "outputs": [
    {
     "data": {
      "text/plain": [
       "<matplotlib.figure.Figure at 0x6afd9f1f28>"
      ]
     },
     "metadata": {},
     "output_type": "display_data"
    },
    {
     "data": {
      "image/png": "[encoded data removed]",
      "text/plain": [
       "<matplotlib.figure.Figure at 0x6afd9f1c88>"
      ]
     },
     "metadata": {},
     "output_type": "display_data"
    }
   ],
   "source": [
    "py.gray()\n",
    "py.matshow(digits.images[0])\n",
    "py.show()"
   ]
  },
  {
   "cell_type": "code",
   "execution_count": 14,
   "metadata": {},
   "outputs": [
    {
     "data": {
      "text/plain": [
       "array([[ 0.,  0.,  5., 13.,  9.,  1.,  0.,  0.],\n",
       "       [ 0.,  0., 13., 15., 10., 15.,  5.,  0.],\n",
       "       [ 0.,  3., 15.,  2.,  0., 11.,  8.,  0.],\n",
       "       [ 0.,  4., 12.,  0.,  0.,  8.,  8.,  0.],\n",
       "       [ 0.,  5.,  8.,  0.,  0.,  9.,  8.,  0.],\n",
       "       [ 0.,  4., 11.,  0.,  1., 12.,  7.,  0.],\n",
       "       [ 0.,  2., 14.,  5., 10., 12.,  0.,  0.],\n",
       "       [ 0.,  0.,  6., 13., 10.,  0.,  0.,  0.]])"
      ]
     },
     "execution_count": 14,
     "metadata": {},
     "output_type": "execute_result"
    }
   ],
   "source": [
    "digits.images[0]"
   ]
  },
  {
   "cell_type": "code",
   "execution_count": 23,
   "metadata": {},
   "outputs": [
    {
     "data": {
      "image/png": "[encoded data removed]",
      "text/plain": [
       "<matplotlib.figure.Figure at 0x6a802df048>"
      ]
     },
     "metadata": {},
     "output_type": "display_data"
    }
   ],
   "source": [
    "images_and_labels = list(zip(digits.images, digits.target))\n",
    "plt.figure(figsize = (7, 7))\n",
    "for i, (image, label), in enumerate (images_and_labels[:14]):\n",
    "    plt.subplot(2, 7, i+1)\n",
    "    plt.axis('off')\n",
    "    plt.imshow(image, cmap = plt.cm.gray_r, interpolation = 'nearest')\n",
    "    plt.title(label)"
   ]
  },
  {
   "cell_type": "code",
   "execution_count": 52,
   "metadata": {
    "collapsed": true
   },
   "outputs": [],
   "source": [
    "n = len(digits.images)\n",
    "x = digits.images.reshape((n, -1))\n",
    "y = digits.target\n",
    "\n",
    "x_train, x_test, y_train, y_test = tts(x, y)"
   ]
  },
  {
   "cell_type": "code",
   "execution_count": 53,
   "metadata": {},
   "outputs": [
    {
     "data": {
      "text/plain": [
       "(1347, 64)"
      ]
     },
     "execution_count": 53,
     "metadata": {},
     "output_type": "execute_result"
    }
   ],
   "source": [
    "x_train.shape"
   ]
  },
  {
   "cell_type": "code",
   "execution_count": 54,
   "metadata": {},
   "outputs": [
    {
     "data": {
      "text/plain": [
       "(1347,)"
      ]
     },
     "execution_count": 54,
     "metadata": {},
     "output_type": "execute_result"
    }
   ],
   "source": [
    "y_train.shape"
   ]
  },
  {
   "cell_type": "code",
   "execution_count": 55,
   "metadata": {},
   "outputs": [
    {
     "data": {
      "text/plain": [
       "(450, 64)"
      ]
     },
     "execution_count": 55,
     "metadata": {},
     "output_type": "execute_result"
    }
   ],
   "source": [
    "x_test.shape"
   ]
  },
  {
   "cell_type": "code",
   "execution_count": 56,
   "metadata": {},
   "outputs": [
    {
     "data": {
      "text/plain": [
       "(450,)"
      ]
     },
     "execution_count": 56,
     "metadata": {},
     "output_type": "execute_result"
    }
   ],
   "source": [
    "y_test.shape"
   ]
  },
  {
   "cell_type": "code",
   "execution_count": 57,
   "metadata": {},
   "outputs": [
    {
     "data": {
      "text/plain": [
       "RandomForestClassifier(bootstrap=True, class_weight=None, criterion='gini',\n",
       "            max_depth=None, max_features='auto', max_leaf_nodes=None,\n",
       "            min_impurity_decrease=0.0, min_impurity_split=None,\n",
       "            min_samples_leaf=1, min_samples_split=2,\n",
       "            min_weight_fraction_leaf=0.0, n_estimators=10, n_jobs=1,\n",
       "            oob_score=False, random_state=None, verbose=0,\n",
       "            warm_start=False)"
      ]
     },
     "execution_count": 57,
     "metadata": {},
     "output_type": "execute_result"
    }
   ],
   "source": [
    "rfc = ensemble.RandomForestClassifier()\n",
    "rfc.fit(x_train, y_train)"
   ]
  },
  {
   "cell_type": "code",
   "execution_count": 58,
   "metadata": {},
   "outputs": [
    {
     "name": "stdout",
     "output_type": "stream",
     "text": [
      "rfc score: \n",
      "\n",
      "0.9422222222222222\n"
     ]
    }
   ],
   "source": [
    "score = rfc.score(x_test, y_test)\n",
    "print('rfc score: \\n')\n",
    "print(str(score))"
   ]
  },
  {
   "cell_type": "code",
   "execution_count": 59,
   "metadata": {},
   "outputs": [
    {
     "data": {
      "text/plain": [
       "array([6, 6, 8, 2, 1, 4, 1, 1, 7, 7, 6, 9, 8, 2, 1, 7, 2, 2, 7, 0, 8, 9,\n",
       "       4, 2, 4, 1, 3, 3, 9, 2, 5, 5, 2, 9, 4, 9, 8, 5, 9, 0, 3, 4, 0, 3,\n",
       "       6, 2, 8, 2, 6, 3, 2, 1, 4, 8, 2, 8, 0, 3, 0, 1, 9, 4, 5, 4, 2, 1,\n",
       "       3, 5, 5, 5, 4, 1, 3, 4, 2, 6, 8, 2, 0, 9, 1, 7, 1, 8, 9, 2, 7, 4,\n",
       "       3, 9, 0, 5, 8, 0, 4, 5, 7, 7, 6, 7, 3, 3, 6, 4, 5, 3, 6, 5, 0, 9,\n",
       "       2, 4, 9, 3, 3, 1, 9, 2, 9, 8, 8, 7, 0, 3, 5, 1, 2, 5, 9, 2, 7, 7,\n",
       "       3, 8, 3, 7, 0, 8, 4, 9, 4, 8, 8, 3, 9, 0, 7, 2, 3, 6, 1, 7, 8, 0,\n",
       "       0, 7, 8, 7, 7, 5, 0, 6, 7, 2, 6, 0, 6, 1, 8, 3, 2, 2, 7, 5, 7, 7,\n",
       "       1, 0, 5, 2, 4, 7, 1, 5, 7, 5, 2, 2, 2, 4, 1, 2, 9, 3, 8, 7, 4, 0,\n",
       "       2, 2, 5, 9, 3, 7, 0, 9, 8, 5, 8, 6, 9, 8, 4, 6, 8, 8, 2, 6, 6, 0,\n",
       "       7, 5, 9, 2, 1, 3, 0, 1, 7, 2, 1, 8, 8, 7, 2, 9, 5, 0, 6, 3, 9, 3,\n",
       "       8, 1, 8, 4, 3, 9, 3, 8, 8, 1, 0, 3, 6, 0, 5, 9, 6, 2, 3, 6, 6, 3,\n",
       "       3, 1, 4, 3, 6, 6, 7, 0, 7, 0, 2, 0, 0, 7, 6, 7, 6, 6, 4, 4, 4, 8,\n",
       "       1, 1, 7, 1, 5, 7, 9, 6, 9, 5, 2, 2, 7, 5, 8, 0, 6, 2, 7, 2, 4, 4,\n",
       "       4, 7, 8, 3, 1, 5, 4, 3, 9, 2, 9, 4, 4, 2, 2, 4, 2, 5, 6, 8, 7, 7,\n",
       "       4, 7, 3, 0, 8, 3, 0, 0, 4, 5, 1, 3, 7, 6, 2, 4, 7, 3, 5, 6, 2, 0,\n",
       "       6, 5, 6, 1, 1, 4, 4, 7, 0, 3, 6, 9, 8, 0, 1, 8, 1, 1, 5, 4, 3, 4,\n",
       "       1, 0, 0, 6, 6, 3, 7, 2, 5, 9, 3, 4, 2, 9, 8, 4, 5, 0, 6, 7, 3, 6,\n",
       "       4, 5, 2, 7, 3, 5, 9, 1, 6, 5, 8, 1, 3, 9, 1, 5, 8, 9, 9, 4, 2, 0,\n",
       "       7, 4, 1, 7, 4, 9, 7, 9, 8, 4, 1, 1, 0, 1, 1, 2, 2, 6, 7, 3, 3, 7,\n",
       "       0, 9, 6, 3, 9, 5, 2, 5, 2, 5])"
      ]
     },
     "execution_count": 59,
     "metadata": {},
     "output_type": "execute_result"
    }
   ],
   "source": [
    "preds = rfc.predict(x_test)\n",
    "preds"
   ]
  },
  {
   "cell_type": "code",
   "execution_count": 60,
   "metadata": {},
   "outputs": [
    {
     "data": {
      "text/plain": [
       "array([6, 6, 8, 2, 1, 4, 1, 8, 7, 7, 6, 9, 8, 2, 9, 7, 2, 2, 7, 0, 3, 9,\n",
       "       4, 2, 4, 1, 3, 3, 3, 2, 5, 5, 2, 9, 4, 9, 8, 5, 9, 0, 3, 4, 0, 3,\n",
       "       6, 8, 8, 2, 6, 3, 2, 8, 4, 8, 2, 8, 0, 3, 0, 8, 9, 4, 5, 4, 2, 1,\n",
       "       3, 5, 5, 5, 4, 1, 3, 4, 2, 6, 8, 2, 6, 9, 1, 7, 1, 8, 9, 2, 7, 4,\n",
       "       3, 9, 0, 5, 8, 0, 4, 5, 7, 7, 6, 7, 3, 3, 6, 4, 5, 3, 6, 5, 0, 9,\n",
       "       2, 4, 9, 9, 3, 1, 9, 2, 9, 8, 8, 7, 0, 3, 5, 1, 2, 5, 9, 2, 7, 7,\n",
       "       3, 8, 3, 7, 0, 8, 4, 9, 4, 8, 8, 3, 9, 0, 7, 2, 3, 6, 1, 7, 8, 0,\n",
       "       0, 7, 8, 7, 7, 5, 0, 6, 4, 2, 6, 0, 6, 1, 8, 3, 2, 2, 7, 5, 7, 7,\n",
       "       1, 0, 5, 2, 4, 7, 1, 5, 7, 5, 2, 2, 2, 4, 1, 2, 9, 9, 8, 7, 4, 0,\n",
       "       2, 2, 5, 9, 9, 7, 0, 9, 8, 5, 8, 6, 5, 8, 4, 6, 8, 8, 2, 6, 6, 0,\n",
       "       7, 5, 9, 2, 1, 3, 0, 1, 7, 2, 1, 8, 8, 7, 2, 9, 5, 0, 6, 3, 9, 3,\n",
       "       8, 1, 8, 4, 3, 1, 3, 8, 8, 8, 0, 3, 6, 0, 5, 9, 6, 2, 3, 6, 6, 3,\n",
       "       3, 1, 4, 3, 8, 6, 7, 0, 7, 0, 2, 0, 0, 7, 6, 9, 6, 6, 4, 4, 4, 8,\n",
       "       1, 1, 7, 1, 5, 7, 9, 6, 9, 5, 2, 2, 7, 5, 8, 0, 8, 2, 7, 2, 4, 4,\n",
       "       4, 7, 8, 3, 1, 5, 4, 3, 9, 2, 9, 4, 4, 2, 2, 4, 2, 5, 6, 8, 7, 7,\n",
       "       4, 7, 3, 0, 8, 9, 0, 0, 4, 5, 1, 3, 9, 6, 2, 4, 7, 3, 5, 6, 2, 0,\n",
       "       6, 5, 6, 1, 1, 4, 4, 7, 0, 3, 6, 9, 8, 0, 1, 8, 1, 1, 5, 4, 3, 4,\n",
       "       1, 0, 0, 6, 6, 3, 8, 2, 5, 9, 3, 4, 2, 9, 8, 5, 5, 0, 6, 7, 3, 6,\n",
       "       4, 5, 8, 7, 3, 5, 9, 1, 6, 5, 8, 1, 3, 9, 8, 5, 8, 9, 9, 0, 2, 0,\n",
       "       7, 4, 1, 7, 4, 9, 7, 9, 8, 4, 1, 1, 0, 1, 8, 2, 2, 6, 7, 3, 3, 7,\n",
       "       0, 9, 6, 3, 9, 5, 2, 5, 2, 5])"
      ]
     },
     "execution_count": 60,
     "metadata": {},
     "output_type": "execute_result"
    }
   ],
   "source": [
    "y_test"
   ]
  }
 ],
 "metadata": {
  "kernelspec": {
   "display_name": "Python 3",
   "language": "python",
   "name": "python3"
  },
  "language_info": {
   "codemirror_mode": {
    "name": "ipython",
    "version": 3
   },
   "file_extension": ".py",
   "mimetype": "text/x-python",
   "name": "python",
   "nbconvert_exporter": "python",
   "pygments_lexer": "ipython3",
   "version": "3.6.2"
  }
 },
 "nbformat": 4,
 "nbformat_minor": 2
}
